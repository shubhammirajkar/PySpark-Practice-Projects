{
 "cells": [
  {
   "cell_type": "code",
   "execution_count": 0,
   "metadata": {
    "application/vnd.databricks.v1+cell": {
     "cellMetadata": {
      "byteLimit": 2048000,
      "rowLimit": 10000
     },
     "inputWidgets": {},
     "nuid": "066dd0de-5c33-4866-a59a-c0cc33f82e86",
     "showTitle": false,
     "title": ""
    }
   },
   "outputs": [],
   "source": [
    "import pyspark\n",
    "from pyspark.sql import SparkSession\n",
    "from pyspark.sql.types import StructType, StructField, StringType, IntegerType\n",
    "from pyspark.sql.functions import *\n"
   ]
  },
  {
   "cell_type": "code",
   "execution_count": 0,
   "metadata": {
    "application/vnd.databricks.v1+cell": {
     "cellMetadata": {
      "byteLimit": 2048000,
      "rowLimit": 10000
     },
     "inputWidgets": {},
     "nuid": "3e934176-3cce-42f5-8704-86d2154623ee",
     "showTitle": true,
     "title": "Load DataSet"
    }
   },
   "outputs": [],
   "source": [
    "df = spark.read.load('/FileStore/tables/googleplaystore.csv', format='csv', header='true', sep=',', escape='\"', inferschema='true')"
   ]
  },
  {
   "cell_type": "code",
   "execution_count": 0,
   "metadata": {
    "application/vnd.databricks.v1+cell": {
     "cellMetadata": {
      "byteLimit": 2048000,
      "rowLimit": 10000
     },
     "inputWidgets": {},
     "nuid": "91c53a3f-8079-43dc-8215-13e22aa70b21",
     "showTitle": false,
     "title": ""
    }
   },
   "outputs": [
    {
     "output_type": "stream",
     "name": "stdout",
     "output_type": "stream",
     "text": [
      "Out[10]: 10841"
     ]
    }
   ],
   "source": [
    "df.count()"
   ]
  },
  {
   "cell_type": "code",
   "execution_count": 0,
   "metadata": {
    "application/vnd.databricks.v1+cell": {
     "cellMetadata": {
      "byteLimit": 2048000,
      "rowLimit": 10000
     },
     "inputWidgets": {},
     "nuid": "12f8dd1b-d422-48fb-b678-2778c10a8f86",
     "showTitle": false,
     "title": ""
    }
   },
   "outputs": [
    {
     "output_type": "stream",
     "name": "stdout",
     "output_type": "stream",
     "text": [
      "+--------------------+--------------+------+-------+----+--------+----+-----+--------------+------------+---------------+-----------+------------+\n|                 App|      Category|Rating|Reviews|Size|Installs|Type|Price|Content Rating|      Genres|   Last Updated|Current Ver| Android Ver|\n+--------------------+--------------+------+-------+----+--------+----+-----+--------------+------------+---------------+-----------+------------+\n|Photo Editor & Ca...|ART_AND_DESIGN|   4.1|    159| 19M| 10,000+|Free|    0|      Everyone|Art & Design|January 7, 2018|      1.0.0|4.0.3 and up|\n+--------------------+--------------+------+-------+----+--------+----+-----+--------------+------------+---------------+-----------+------------+\nonly showing top 1 row\n\n"
     ]
    }
   ],
   "source": [
    "df.show(1)"
   ]
  },
  {
   "cell_type": "code",
   "execution_count": 0,
   "metadata": {
    "application/vnd.databricks.v1+cell": {
     "cellMetadata": {
      "byteLimit": 2048000,
      "rowLimit": 10000
     },
     "inputWidgets": {},
     "nuid": "84140fc0-1607-4a90-b62d-3b64f64a661a",
     "showTitle": true,
     "title": "Schema"
    }
   },
   "outputs": [
    {
     "output_type": "stream",
     "name": "stdout",
     "output_type": "stream",
     "text": [
      "root\n |-- App: string (nullable = true)\n |-- Category: string (nullable = true)\n |-- Rating: double (nullable = true)\n |-- Reviews: string (nullable = true)\n |-- Size: string (nullable = true)\n |-- Installs: string (nullable = true)\n |-- Type: string (nullable = true)\n |-- Price: string (nullable = true)\n |-- Content Rating: string (nullable = true)\n |-- Genres: string (nullable = true)\n |-- Last Updated: string (nullable = true)\n |-- Current Ver: string (nullable = true)\n |-- Android Ver: string (nullable = true)\n\n"
     ]
    }
   ],
   "source": [
    "df.printSchema()"
   ]
  },
  {
   "cell_type": "code",
   "execution_count": 0,
   "metadata": {
    "application/vnd.databricks.v1+cell": {
     "cellMetadata": {
      "byteLimit": 2048000,
      "rowLimit": 10000
     },
     "inputWidgets": {},
     "nuid": "64cceb94-35eb-4613-9756-92b60cdd4a65",
     "showTitle": true,
     "title": "Drop Unneccessary Columns"
    }
   },
   "outputs": [],
   "source": [
    "df=df.drop(\"Size\",\"Content Rating\",\"Last Updated\",\"Android Ver\")"
   ]
  },
  {
   "cell_type": "code",
   "execution_count": 0,
   "metadata": {
    "application/vnd.databricks.v1+cell": {
     "cellMetadata": {
      "byteLimit": 2048000,
      "rowLimit": 10000
     },
     "inputWidgets": {},
     "nuid": "4a04dc62-70b4-4638-8bb0-861b72aa2a07",
     "showTitle": false,
     "title": ""
    }
   },
   "outputs": [],
   "source": [
    "df=df.drop(\"Current Ver\")"
   ]
  },
  {
   "cell_type": "code",
   "execution_count": 0,
   "metadata": {
    "application/vnd.databricks.v1+cell": {
     "cellMetadata": {
      "byteLimit": 2048000,
      "rowLimit": 10000
     },
     "inputWidgets": {},
     "nuid": "85dac29e-98f5-4130-9372-c894f6564c47",
     "showTitle": false,
     "title": ""
    }
   },
   "outputs": [
    {
     "output_type": "stream",
     "name": "stdout",
     "output_type": "stream",
     "text": [
      "+--------------------+--------------+------+-------+--------+----+-----+--------------------+\n|                 App|      Category|Rating|Reviews|Installs|Type|Price|              Genres|\n+--------------------+--------------+------+-------+--------+----+-----+--------------------+\n|Photo Editor & Ca...|ART_AND_DESIGN|   4.1|    159| 10,000+|Free|    0|        Art & Design|\n| Coloring book moana|ART_AND_DESIGN|   3.9|    967|500,000+|Free|    0|Art & Design;Pret...|\n+--------------------+--------------+------+-------+--------+----+-----+--------------------+\nonly showing top 2 rows\n\n"
     ]
    }
   ],
   "source": [
    "df.show(2)"
   ]
  },
  {
   "cell_type": "code",
   "execution_count": 0,
   "metadata": {
    "application/vnd.databricks.v1+cell": {
     "cellMetadata": {
      "byteLimit": 2048000,
      "rowLimit": 10000
     },
     "inputWidgets": {},
     "nuid": "a01d689e-7f44-4f2a-81ca-94c1bb6f719a",
     "showTitle": false,
     "title": ""
    }
   },
   "outputs": [
    {
     "output_type": "stream",
     "name": "stdout",
     "output_type": "stream",
     "text": [
      "root\n |-- App: string (nullable = true)\n |-- Category: string (nullable = true)\n |-- Rating: double (nullable = true)\n |-- Reviews: string (nullable = true)\n |-- Installs: string (nullable = true)\n |-- Type: string (nullable = true)\n |-- Price: string (nullable = true)\n |-- Genres: string (nullable = true)\n\n"
     ]
    }
   ],
   "source": [
    "df.printSchema()"
   ]
  },
  {
   "cell_type": "code",
   "execution_count": 0,
   "metadata": {
    "application/vnd.databricks.v1+cell": {
     "cellMetadata": {
      "byteLimit": 2048000,
      "rowLimit": 10000
     },
     "inputWidgets": {},
     "nuid": "c1170ac4-aea0-49df-a4ad-6bc397a02d5f",
     "showTitle": true,
     "title": "Convert the formats"
    }
   },
   "outputs": [],
   "source": [
    "from pyspark.sql.functions import regexp_replace, col\n",
    "\n",
    "df= df.withColumn(\"Reviews\",col(\"Reviews\").cast(IntegerType()))\\\n",
    ".withColumn(\"Installs\",regexp_replace(col(\"Installs\"),\"[^0-9]\",\"\"))\\\n",
    "    .withColumn(\"Installs\",col(\"Installs\").cast(IntegerType()))\\\n",
    "        .withColumn(\"Price\",regexp_replace(col(\"Price\"),\"[$]\",\"\"))\\\n",
    "            .withColumn(\"Price\",col(\"Price\").cast(IntegerType()))"
   ]
  },
  {
   "cell_type": "code",
   "execution_count": 0,
   "metadata": {
    "application/vnd.databricks.v1+cell": {
     "cellMetadata": {
      "byteLimit": 2048000,
      "rowLimit": 10000
     },
     "inputWidgets": {},
     "nuid": "36702eab-0a1d-479a-b0c5-2576641dcdb4",
     "showTitle": false,
     "title": ""
    }
   },
   "outputs": [
    {
     "output_type": "stream",
     "name": "stdout",
     "output_type": "stream",
     "text": [
      "root\n |-- App: string (nullable = true)\n |-- Category: string (nullable = true)\n |-- Rating: double (nullable = true)\n |-- Reviews: integer (nullable = true)\n |-- Installs: integer (nullable = true)\n |-- Type: string (nullable = true)\n |-- Price: integer (nullable = true)\n |-- Genres: string (nullable = true)\n\n"
     ]
    }
   ],
   "source": [
    "df.printSchema()"
   ]
  },
  {
   "cell_type": "code",
   "execution_count": 0,
   "metadata": {
    "application/vnd.databricks.v1+cell": {
     "cellMetadata": {
      "byteLimit": 2048000,
      "rowLimit": 10000
     },
     "inputWidgets": {},
     "nuid": "aa962f8f-7bd3-4dae-ab7e-f72197e9938a",
     "showTitle": false,
     "title": ""
    }
   },
   "outputs": [
    {
     "output_type": "stream",
     "name": "stdout",
     "output_type": "stream",
     "text": [
      "+--------------------+--------------+------+-------+--------+----+-----+--------------------+\n|                 App|      Category|Rating|Reviews|Installs|Type|Price|              Genres|\n+--------------------+--------------+------+-------+--------+----+-----+--------------------+\n|Photo Editor & Ca...|ART_AND_DESIGN|   4.1|    159|   10000|Free|    0|        Art & Design|\n| Coloring book moana|ART_AND_DESIGN|   3.9|    967|  500000|Free|    0|Art & Design;Pret...|\n|U Launcher Lite –...|ART_AND_DESIGN|   4.7|  87510| 5000000|Free|    0|        Art & Design|\n|Sketch - Draw & P...|ART_AND_DESIGN|   4.5| 215644|50000000|Free|    0|        Art & Design|\n|Pixel Draw - Numb...|ART_AND_DESIGN|   4.3|    967|  100000|Free|    0|Art & Design;Crea...|\n|Paper flowers ins...|ART_AND_DESIGN|   4.4|    167|   50000|Free|    0|        Art & Design|\n|Smoke Effect Phot...|ART_AND_DESIGN|   3.8|    178|   50000|Free|    0|        Art & Design|\n|    Infinite Painter|ART_AND_DESIGN|   4.1|  36815| 1000000|Free|    0|        Art & Design|\n|Garden Coloring Book|ART_AND_DESIGN|   4.4|  13791| 1000000|Free|    0|        Art & Design|\n|Kids Paint Free -...|ART_AND_DESIGN|   4.7|    121|   10000|Free|    0|Art & Design;Crea...|\n+--------------------+--------------+------+-------+--------+----+-----+--------------------+\nonly showing top 10 rows\n\n"
     ]
    }
   ],
   "source": [
    "df.show(10)"
   ]
  },
  {
   "cell_type": "code",
   "execution_count": 0,
   "metadata": {
    "application/vnd.databricks.v1+cell": {
     "cellMetadata": {
      "byteLimit": 2048000,
      "rowLimit": 10000
     },
     "inputWidgets": {},
     "nuid": "860ce7e8-7c95-4909-9c52-a8ea6e90fb1b",
     "showTitle": true,
     "title": "Create View from the Data Frame"
    }
   },
   "outputs": [],
   "source": [
    "df.createOrReplaceTempView(\"apps\")"
   ]
  },
  {
   "cell_type": "code",
   "execution_count": 0,
   "metadata": {
    "application/vnd.databricks.v1+cell": {
     "cellMetadata": {
      "byteLimit": 2048000,
      "implicitDf": true,
      "rowLimit": 10000
     },
     "inputWidgets": {},
     "nuid": "6e69de6d-d699-4987-88d3-76df2647ac58",
     "showTitle": false,
     "title": ""
    }
   },
   "outputs": [
    {
     "output_type": "display_data",
     "data": {
      "text/html": [
       "<style scoped>\n",
       "  .table-result-container {\n",
       "    max-height: 300px;\n",
       "    overflow: auto;\n",
       "  }\n",
       "  table, th, td {\n",
       "    border: 1px solid black;\n",
       "    border-collapse: collapse;\n",
       "  }\n",
       "  th, td {\n",
       "    padding: 5px;\n",
       "  }\n",
       "  th {\n",
       "    text-align: left;\n",
       "  }\n",
       "</style><div class='table-result-container'><table class='table-result'><thead style='background-color: white'><tr><th>App</th><th>Category</th><th>Rating</th><th>Reviews</th><th>Installs</th><th>Type</th><th>Price</th><th>Genres</th></tr></thead><tbody><tr><td>Photo Editor & Candy Camera & Grid & ScrapBook</td><td>ART_AND_DESIGN</td><td>4.1</td><td>159</td><td>10000</td><td>Free</td><td>0</td><td>Art & Design</td></tr><tr><td>Coloring book moana</td><td>ART_AND_DESIGN</td><td>3.9</td><td>967</td><td>500000</td><td>Free</td><td>0</td><td>Art & Design;Pretend Play</td></tr><tr><td>U Launcher Lite – FREE Live Cool Themes, Hide Apps</td><td>ART_AND_DESIGN</td><td>4.7</td><td>87510</td><td>5000000</td><td>Free</td><td>0</td><td>Art & Design</td></tr><tr><td>Sketch - Draw & Paint</td><td>ART_AND_DESIGN</td><td>4.5</td><td>215644</td><td>50000000</td><td>Free</td><td>0</td><td>Art & Design</td></tr><tr><td>Pixel Draw - Number Art Coloring Book</td><td>ART_AND_DESIGN</td><td>4.3</td><td>967</td><td>100000</td><td>Free</td><td>0</td><td>Art & Design;Creativity</td></tr><tr><td>Paper flowers instructions</td><td>ART_AND_DESIGN</td><td>4.4</td><td>167</td><td>50000</td><td>Free</td><td>0</td><td>Art & Design</td></tr><tr><td>Smoke Effect Photo Maker - Smoke Editor</td><td>ART_AND_DESIGN</td><td>3.8</td><td>178</td><td>50000</td><td>Free</td><td>0</td><td>Art & Design</td></tr><tr><td>Infinite Painter</td><td>ART_AND_DESIGN</td><td>4.1</td><td>36815</td><td>1000000</td><td>Free</td><td>0</td><td>Art & Design</td></tr><tr><td>Garden Coloring Book</td><td>ART_AND_DESIGN</td><td>4.4</td><td>13791</td><td>1000000</td><td>Free</td><td>0</td><td>Art & Design</td></tr><tr><td>Kids Paint Free - Drawing Fun</td><td>ART_AND_DESIGN</td><td>4.7</td><td>121</td><td>10000</td><td>Free</td><td>0</td><td>Art & Design;Creativity</td></tr></tbody></table></div>"
      ]
     },
     "metadata": {
      "application/vnd.databricks.v1+output": {
       "addedWidgets": {},
       "aggData": [],
       "aggError": "",
       "aggOverflow": false,
       "aggSchema": [],
       "aggSeriesLimitReached": false,
       "aggType": "",
       "arguments": {},
       "columnCustomDisplayInfos": {},
       "data": [
        [
         "Photo Editor & Candy Camera & Grid & ScrapBook",
         "ART_AND_DESIGN",
         4.1,
         159,
         10000,
         "Free",
         0,
         "Art & Design"
        ],
        [
         "Coloring book moana",
         "ART_AND_DESIGN",
         3.9,
         967,
         500000,
         "Free",
         0,
         "Art & Design;Pretend Play"
        ],
        [
         "U Launcher Lite – FREE Live Cool Themes, Hide Apps",
         "ART_AND_DESIGN",
         4.7,
         87510,
         5000000,
         "Free",
         0,
         "Art & Design"
        ],
        [
         "Sketch - Draw & Paint",
         "ART_AND_DESIGN",
         4.5,
         215644,
         50000000,
         "Free",
         0,
         "Art & Design"
        ],
        [
         "Pixel Draw - Number Art Coloring Book",
         "ART_AND_DESIGN",
         4.3,
         967,
         100000,
         "Free",
         0,
         "Art & Design;Creativity"
        ],
        [
         "Paper flowers instructions",
         "ART_AND_DESIGN",
         4.4,
         167,
         50000,
         "Free",
         0,
         "Art & Design"
        ],
        [
         "Smoke Effect Photo Maker - Smoke Editor",
         "ART_AND_DESIGN",
         3.8,
         178,
         50000,
         "Free",
         0,
         "Art & Design"
        ],
        [
         "Infinite Painter",
         "ART_AND_DESIGN",
         4.1,
         36815,
         1000000,
         "Free",
         0,
         "Art & Design"
        ],
        [
         "Garden Coloring Book",
         "ART_AND_DESIGN",
         4.4,
         13791,
         1000000,
         "Free",
         0,
         "Art & Design"
        ],
        [
         "Kids Paint Free - Drawing Fun",
         "ART_AND_DESIGN",
         4.7,
         121,
         10000,
         "Free",
         0,
         "Art & Design;Creativity"
        ]
       ],
       "datasetInfos": [],
       "dbfsResultPath": null,
       "isJsonSchema": true,
       "metadata": {},
       "overflow": false,
       "plotOptions": {
        "customPlotOptions": {},
        "displayType": "table",
        "pivotAggregation": null,
        "pivotColumns": null,
        "xColumns": null,
        "yColumns": null
       },
       "removedWidgets": [],
       "schema": [
        {
         "metadata": "{}",
         "name": "App",
         "type": "\"string\""
        },
        {
         "metadata": "{}",
         "name": "Category",
         "type": "\"string\""
        },
        {
         "metadata": "{}",
         "name": "Rating",
         "type": "\"double\""
        },
        {
         "metadata": "{}",
         "name": "Reviews",
         "type": "\"integer\""
        },
        {
         "metadata": "{}",
         "name": "Installs",
         "type": "\"integer\""
        },
        {
         "metadata": "{}",
         "name": "Type",
         "type": "\"string\""
        },
        {
         "metadata": "{}",
         "name": "Price",
         "type": "\"integer\""
        },
        {
         "metadata": "{}",
         "name": "Genres",
         "type": "\"string\""
        }
       ],
       "type": "table"
      }
     },
     "output_type": "display_data"
    }
   ],
   "source": [
    "%sql\n",
    "select * from apps LIMIT 10;"
   ]
  },
  {
   "cell_type": "code",
   "execution_count": 0,
   "metadata": {
    "application/vnd.databricks.v1+cell": {
     "cellMetadata": {
      "byteLimit": 2048000,
      "implicitDf": true,
      "rowLimit": 10000
     },
     "inputWidgets": {},
     "nuid": "78564463-36e6-4cb6-88ba-4a3ded60a424",
     "showTitle": true,
     "title": "Top Reviews"
    }
   },
   "outputs": [
    {
     "output_type": "display_data",
     "data": {
      "text/html": [
       "<style scoped>\n",
       "  .table-result-container {\n",
       "    max-height: 300px;\n",
       "    overflow: auto;\n",
       "  }\n",
       "  table, th, td {\n",
       "    border: 1px solid black;\n",
       "    border-collapse: collapse;\n",
       "  }\n",
       "  th, td {\n",
       "    padding: 5px;\n",
       "  }\n",
       "  th {\n",
       "    text-align: left;\n",
       "  }\n",
       "</style><div class='table-result-container'><table class='table-result'><thead style='background-color: white'><tr><th>App</th><th>sum(Reviews)</th></tr></thead><tbody><tr><td>Instagram</td><td>266241989</td></tr><tr><td>WhatsApp Messenger</td><td>207348304</td></tr><tr><td>Clash of Clans</td><td>179558781</td></tr><tr><td>Messenger – Text and Video Chat for Free</td><td>169932272</td></tr><tr><td>Subway Surfers</td><td>166331958</td></tr><tr><td>Candy Crush Saga</td><td>156993136</td></tr><tr><td>Facebook</td><td>156286514</td></tr><tr><td>8 Ball Pool</td><td>99386198</td></tr><tr><td>Clash Royale</td><td>92530298</td></tr><tr><td>Snapchat</td><td>68045010</td></tr></tbody></table></div>"
      ]
     },
     "metadata": {
      "application/vnd.databricks.v1+output": {
       "addedWidgets": {},
       "aggData": [],
       "aggError": "",
       "aggOverflow": false,
       "aggSchema": [],
       "aggSeriesLimitReached": false,
       "aggType": "",
       "arguments": {},
       "columnCustomDisplayInfos": {},
       "data": [
        [
         "Instagram",
         266241989
        ],
        [
         "WhatsApp Messenger",
         207348304
        ],
        [
         "Clash of Clans",
         179558781
        ],
        [
         "Messenger – Text and Video Chat for Free",
         169932272
        ],
        [
         "Subway Surfers",
         166331958
        ],
        [
         "Candy Crush Saga",
         156993136
        ],
        [
         "Facebook",
         156286514
        ],
        [
         "8 Ball Pool",
         99386198
        ],
        [
         "Clash Royale",
         92530298
        ],
        [
         "Snapchat",
         68045010
        ]
       ],
       "datasetInfos": [],
       "dbfsResultPath": null,
       "isJsonSchema": true,
       "metadata": {},
       "overflow": false,
       "plotOptions": {
        "customPlotOptions": {},
        "displayType": "table",
        "pivotAggregation": null,
        "pivotColumns": null,
        "xColumns": null,
        "yColumns": null
       },
       "removedWidgets": [],
       "schema": [
        {
         "metadata": "{}",
         "name": "App",
         "type": "\"string\""
        },
        {
         "metadata": "{\"__autoGeneratedAlias\":\"true\"}",
         "name": "sum(Reviews)",
         "type": "\"long\""
        }
       ],
       "type": "table"
      }
     },
     "output_type": "display_data"
    }
   ],
   "source": [
    "%sql\n",
    "select App,sum(Reviews) from apps group by 1 order by 2 desc LIMIT 10;"
   ]
  },
  {
   "cell_type": "code",
   "execution_count": 0,
   "metadata": {
    "application/vnd.databricks.v1+cell": {
     "cellMetadata": {
      "byteLimit": 2048000,
      "implicitDf": true,
      "rowLimit": 10000
     },
     "inputWidgets": {},
     "nuid": "27202ea1-b4c8-4376-8cc5-7b2a8b8c788e",
     "showTitle": true,
     "title": "Top 10 Installed Apps"
    }
   },
   "outputs": [
    {
     "output_type": "display_data",
     "data": {
      "text/html": [
       "<style scoped>\n",
       "  .table-result-container {\n",
       "    max-height: 300px;\n",
       "    overflow: auto;\n",
       "  }\n",
       "  table, th, td {\n",
       "    border: 1px solid black;\n",
       "    border-collapse: collapse;\n",
       "  }\n",
       "  th, td {\n",
       "    padding: 5px;\n",
       "  }\n",
       "  th {\n",
       "    text-align: left;\n",
       "  }\n",
       "</style><div class='table-result-container'><table class='table-result'><thead style='background-color: white'><tr><th>App</th><th>sum(Installs)</th></tr></thead><tbody><tr><td>Subway Surfers</td><td>6000000000</td></tr><tr><td>Instagram</td><td>4000000000</td></tr><tr><td>Hangouts</td><td>4000000000</td></tr><tr><td>Google Drive</td><td>4000000000</td></tr><tr><td>Google News</td><td>4000000000</td></tr><tr><td>Google Photos</td><td>4000000000</td></tr><tr><td>Candy Crush Saga</td><td>3500000000</td></tr><tr><td>WhatsApp Messenger</td><td>3000000000</td></tr><tr><td>Messenger – Text and Video Chat for Free</td><td>3000000000</td></tr><tr><td>Google Chrome: Fast & Secure</td><td>3000000000</td></tr></tbody></table></div>"
      ]
     },
     "metadata": {
      "application/vnd.databricks.v1+output": {
       "addedWidgets": {},
       "aggData": [],
       "aggError": "",
       "aggOverflow": false,
       "aggSchema": [],
       "aggSeriesLimitReached": false,
       "aggType": "",
       "arguments": {},
       "columnCustomDisplayInfos": {},
       "data": [
        [
         "Subway Surfers",
         6000000000
        ],
        [
         "Instagram",
         4000000000
        ],
        [
         "Hangouts",
         4000000000
        ],
        [
         "Google Drive",
         4000000000
        ],
        [
         "Google News",
         4000000000
        ],
        [
         "Google Photos",
         4000000000
        ],
        [
         "Candy Crush Saga",
         3500000000
        ],
        [
         "WhatsApp Messenger",
         3000000000
        ],
        [
         "Messenger – Text and Video Chat for Free",
         3000000000
        ],
        [
         "Google Chrome: Fast & Secure",
         3000000000
        ]
       ],
       "datasetInfos": [],
       "dbfsResultPath": null,
       "isJsonSchema": true,
       "metadata": {},
       "overflow": false,
       "plotOptions": {
        "customPlotOptions": {},
        "displayType": "table",
        "pivotAggregation": null,
        "pivotColumns": null,
        "xColumns": null,
        "yColumns": null
       },
       "removedWidgets": [],
       "schema": [
        {
         "metadata": "{}",
         "name": "App",
         "type": "\"string\""
        },
        {
         "metadata": "{\"__autoGeneratedAlias\":\"true\"}",
         "name": "sum(Installs)",
         "type": "\"long\""
        }
       ],
       "type": "table"
      }
     },
     "output_type": "display_data"
    }
   ],
   "source": [
    "%sql\n",
    "select App, sum(Installs) from apps group by 1 order by 2 desc LIMIT 10"
   ]
  },
  {
   "cell_type": "code",
   "execution_count": 0,
   "metadata": {
    "application/vnd.databricks.v1+cell": {
     "cellMetadata": {
      "byteLimit": 2048000,
      "implicitDf": true,
      "rowLimit": 10000
     },
     "inputWidgets": {},
     "nuid": "e0fa1b11-2664-4d69-923f-3af31faa8ee7",
     "showTitle": true,
     "title": "Top Free Installled Apps"
    }
   },
   "outputs": [
    {
     "output_type": "display_data",
     "data": {
      "text/html": [
       "<style scoped>\n",
       "  .table-result-container {\n",
       "    max-height: 300px;\n",
       "    overflow: auto;\n",
       "  }\n",
       "  table, th, td {\n",
       "    border: 1px solid black;\n",
       "    border-collapse: collapse;\n",
       "  }\n",
       "  th, td {\n",
       "    padding: 5px;\n",
       "  }\n",
       "  th {\n",
       "    text-align: left;\n",
       "  }\n",
       "</style><div class='table-result-container'><table class='table-result'><thead style='background-color: white'><tr><th>App</th><th>Type</th><th>sum(Installs)</th></tr></thead><tbody><tr><td>Subway Surfers</td><td>Free</td><td>6000000000</td></tr><tr><td>Instagram</td><td>Free</td><td>4000000000</td></tr><tr><td>Google Drive</td><td>Free</td><td>4000000000</td></tr><tr><td>Hangouts</td><td>Free</td><td>4000000000</td></tr><tr><td>Google Photos</td><td>Free</td><td>4000000000</td></tr><tr><td>Google News</td><td>Free</td><td>4000000000</td></tr><tr><td>Candy Crush Saga</td><td>Free</td><td>3500000000</td></tr><tr><td>WhatsApp Messenger</td><td>Free</td><td>3000000000</td></tr><tr><td>Gmail</td><td>Free</td><td>3000000000</td></tr><tr><td>Temple Run 2</td><td>Free</td><td>3000000000</td></tr></tbody></table></div>"
      ]
     },
     "metadata": {
      "application/vnd.databricks.v1+output": {
       "addedWidgets": {},
       "aggData": [],
       "aggError": "",
       "aggOverflow": false,
       "aggSchema": [],
       "aggSeriesLimitReached": false,
       "aggType": "",
       "arguments": {},
       "columnCustomDisplayInfos": {},
       "data": [
        [
         "Subway Surfers",
         "Free",
         6000000000
        ],
        [
         "Instagram",
         "Free",
         4000000000
        ],
        [
         "Google Drive",
         "Free",
         4000000000
        ],
        [
         "Hangouts",
         "Free",
         4000000000
        ],
        [
         "Google Photos",
         "Free",
         4000000000
        ],
        [
         "Google News",
         "Free",
         4000000000
        ],
        [
         "Candy Crush Saga",
         "Free",
         3500000000
        ],
        [
         "WhatsApp Messenger",
         "Free",
         3000000000
        ],
        [
         "Gmail",
         "Free",
         3000000000
        ],
        [
         "Temple Run 2",
         "Free",
         3000000000
        ]
       ],
       "datasetInfos": [],
       "dbfsResultPath": null,
       "isJsonSchema": true,
       "metadata": {},
       "overflow": false,
       "plotOptions": {
        "customPlotOptions": {},
        "displayType": "table",
        "pivotAggregation": null,
        "pivotColumns": null,
        "xColumns": null,
        "yColumns": null
       },
       "removedWidgets": [],
       "schema": [
        {
         "metadata": "{}",
         "name": "App",
         "type": "\"string\""
        },
        {
         "metadata": "{}",
         "name": "Type",
         "type": "\"string\""
        },
        {
         "metadata": "{\"__autoGeneratedAlias\":\"true\"}",
         "name": "sum(Installs)",
         "type": "\"long\""
        }
       ],
       "type": "table"
      }
     },
     "output_type": "display_data"
    }
   ],
   "source": [
    "%sql\n",
    "select App,Type, sum(Installs) from apps where Type='Free' group by 1,2 order by 3 desc LIMIT 10"
   ]
  },
  {
   "cell_type": "code",
   "execution_count": 0,
   "metadata": {
    "application/vnd.databricks.v1+cell": {
     "cellMetadata": {
      "byteLimit": 2048000,
      "implicitDf": true,
      "rowLimit": 10000
     },
     "inputWidgets": {},
     "nuid": "809bbbed-1174-4976-8760-1306a1cc47ef",
     "showTitle": true,
     "title": "Top paid Intalled Apps"
    }
   },
   "outputs": [
    {
     "output_type": "display_data",
     "data": {
      "text/html": [
       "<style scoped>\n",
       "  .table-result-container {\n",
       "    max-height: 300px;\n",
       "    overflow: auto;\n",
       "  }\n",
       "  table, th, td {\n",
       "    border: 1px solid black;\n",
       "    border-collapse: collapse;\n",
       "  }\n",
       "  th, td {\n",
       "    padding: 5px;\n",
       "  }\n",
       "  th {\n",
       "    text-align: left;\n",
       "  }\n",
       "</style><div class='table-result-container'><table class='table-result'><thead style='background-color: white'><tr><th>App</th><th>Type</th><th>sum(Installs)</th></tr></thead><tbody><tr><td>Minecraft</td><td>Paid</td><td>20000000</td></tr><tr><td>Hitman Sniper</td><td>Paid</td><td>10000000</td></tr><tr><td>Facetune - For Free</td><td>Paid</td><td>3000000</td></tr><tr><td>Beautiful Widgets Pro</td><td>Paid</td><td>2000000</td></tr><tr><td>HD Widgets</td><td>Paid</td><td>2000000</td></tr><tr><td>True Skate</td><td>Paid</td><td>1000000</td></tr><tr><td>Tasker</td><td>Paid</td><td>1000000</td></tr><tr><td>Card Wars - Adventure Time</td><td>Paid</td><td>1000000</td></tr><tr><td>Toca Life: City</td><td>Paid</td><td>1000000</td></tr><tr><td>Bloons TD 5</td><td>Paid</td><td>1000000</td></tr></tbody></table></div>"
      ]
     },
     "metadata": {
      "application/vnd.databricks.v1+output": {
       "addedWidgets": {},
       "aggData": [],
       "aggError": "",
       "aggOverflow": false,
       "aggSchema": [],
       "aggSeriesLimitReached": false,
       "aggType": "",
       "arguments": {},
       "columnCustomDisplayInfos": {},
       "data": [
        [
         "Minecraft",
         "Paid",
         20000000
        ],
        [
         "Hitman Sniper",
         "Paid",
         10000000
        ],
        [
         "Facetune - For Free",
         "Paid",
         3000000
        ],
        [
         "Beautiful Widgets Pro",
         "Paid",
         2000000
        ],
        [
         "HD Widgets",
         "Paid",
         2000000
        ],
        [
         "True Skate",
         "Paid",
         1000000
        ],
        [
         "Tasker",
         "Paid",
         1000000
        ],
        [
         "Card Wars - Adventure Time",
         "Paid",
         1000000
        ],
        [
         "Toca Life: City",
         "Paid",
         1000000
        ],
        [
         "Bloons TD 5",
         "Paid",
         1000000
        ]
       ],
       "datasetInfos": [],
       "dbfsResultPath": null,
       "isJsonSchema": true,
       "metadata": {},
       "overflow": false,
       "plotOptions": {
        "customPlotOptions": {},
        "displayType": "table",
        "pivotAggregation": null,
        "pivotColumns": null,
        "xColumns": null,
        "yColumns": null
       },
       "removedWidgets": [],
       "schema": [
        {
         "metadata": "{}",
         "name": "App",
         "type": "\"string\""
        },
        {
         "metadata": "{}",
         "name": "Type",
         "type": "\"string\""
        },
        {
         "metadata": "{\"__autoGeneratedAlias\":\"true\"}",
         "name": "sum(Installs)",
         "type": "\"long\""
        }
       ],
       "type": "table"
      }
     },
     "output_type": "display_data"
    }
   ],
   "source": [
    "%sql\n",
    "select App,Type, sum(Installs) from apps  where Type='Paid' group by 1,2 order by 3 desc LIMIT 10"
   ]
  },
  {
   "cell_type": "code",
   "execution_count": 0,
   "metadata": {
    "application/vnd.databricks.v1+cell": {
     "cellMetadata": {
      "byteLimit": 2048000,
      "implicitDf": true,
      "rowLimit": 10000
     },
     "inputWidgets": {},
     "nuid": "a7209da0-5812-422f-9581-5687279731d8",
     "showTitle": true,
     "title": "Top Categories"
    }
   },
   "outputs": [
    {
     "output_type": "display_data",
     "data": {
      "text/html": [
       "<style scoped>\n",
       "  .table-result-container {\n",
       "    max-height: 300px;\n",
       "    overflow: auto;\n",
       "  }\n",
       "  table, th, td {\n",
       "    border: 1px solid black;\n",
       "    border-collapse: collapse;\n",
       "  }\n",
       "  th, td {\n",
       "    padding: 5px;\n",
       "  }\n",
       "  th {\n",
       "    text-align: left;\n",
       "  }\n",
       "</style><div class='table-result-container'><table class='table-result'><thead style='background-color: white'><tr><th>Category</th><th>sum(Installs)</th></tr></thead><tbody><tr><td>GAME</td><td>35086024415</td></tr><tr><td>COMMUNICATION</td><td>32647276251</td></tr><tr><td>PRODUCTIVITY</td><td>14176091369</td></tr><tr><td>SOCIAL</td><td>14069867902</td></tr><tr><td>TOOLS</td><td>11452771915</td></tr><tr><td>FAMILY</td><td>10258263505</td></tr><tr><td>PHOTOGRAPHY</td><td>10088247655</td></tr><tr><td>NEWS_AND_MAGAZINES</td><td>7496317760</td></tr><tr><td>TRAVEL_AND_LOCAL</td><td>6868887146</td></tr><tr><td>VIDEO_PLAYERS</td><td>6222002720</td></tr></tbody></table></div>"
      ]
     },
     "metadata": {
      "application/vnd.databricks.v1+output": {
       "addedWidgets": {},
       "aggData": [],
       "aggError": "",
       "aggOverflow": false,
       "aggSchema": [],
       "aggSeriesLimitReached": false,
       "aggType": "",
       "arguments": {},
       "columnCustomDisplayInfos": {},
       "data": [
        [
         "GAME",
         35086024415
        ],
        [
         "COMMUNICATION",
         32647276251
        ],
        [
         "PRODUCTIVITY",
         14176091369
        ],
        [
         "SOCIAL",
         14069867902
        ],
        [
         "TOOLS",
         11452771915
        ],
        [
         "FAMILY",
         10258263505
        ],
        [
         "PHOTOGRAPHY",
         10088247655
        ],
        [
         "NEWS_AND_MAGAZINES",
         7496317760
        ],
        [
         "TRAVEL_AND_LOCAL",
         6868887146
        ],
        [
         "VIDEO_PLAYERS",
         6222002720
        ]
       ],
       "datasetInfos": [],
       "dbfsResultPath": null,
       "isJsonSchema": true,
       "metadata": {},
       "overflow": false,
       "plotOptions": {
        "customPlotOptions": {},
        "displayType": "table",
        "pivotAggregation": null,
        "pivotColumns": null,
        "xColumns": null,
        "yColumns": null
       },
       "removedWidgets": [],
       "schema": [
        {
         "metadata": "{}",
         "name": "Category",
         "type": "\"string\""
        },
        {
         "metadata": "{\"__autoGeneratedAlias\":\"true\"}",
         "name": "sum(Installs)",
         "type": "\"long\""
        }
       ],
       "type": "table"
      }
     },
     "output_type": "display_data"
    }
   ],
   "source": [
    "%sql\n",
    "select Category,sum(Installs) from apps group by 1 order by 2 desc limit 10;"
   ]
  },
  {
   "cell_type": "code",
   "execution_count": 0,
   "metadata": {
    "application/vnd.databricks.v1+cell": {
     "cellMetadata": {
      "byteLimit": 2048000,
      "implicitDf": true,
      "rowLimit": 10000
     },
     "inputWidgets": {},
     "nuid": "38e9f127-e976-4a81-9992-fae86294ad6b",
     "showTitle": true,
     "title": "Highest Paid App"
    }
   },
   "outputs": [
    {
     "output_type": "display_data",
     "data": {
      "text/html": [
       "<style scoped>\n",
       "  .table-result-container {\n",
       "    max-height: 300px;\n",
       "    overflow: auto;\n",
       "  }\n",
       "  table, th, td {\n",
       "    border: 1px solid black;\n",
       "    border-collapse: collapse;\n",
       "  }\n",
       "  th, td {\n",
       "    padding: 5px;\n",
       "  }\n",
       "  th {\n",
       "    text-align: left;\n",
       "  }\n",
       "</style><div class='table-result-container'><table class='table-result'><thead style='background-color: white'><tr><th>App</th><th>sum(Price)</th></tr></thead><tbody><tr><td>I'm Rich - Trump Edition</td><td>400</td></tr><tr><td>most expensive app (H)</td><td>399</td></tr><tr><td>I am rich(premium)</td><td>399</td></tr><tr><td>I Am Rich Premium</td><td>399</td></tr><tr><td>I am Rich Plus</td><td>399</td></tr><tr><td>I'm Rich/Eu sou Rico/أنا غني/我很有錢</td><td>399</td></tr><tr><td>I Am Rich Pro</td><td>399</td></tr><tr><td>I AM RICH PRO PLUS</td><td>399</td></tr><tr><td>I am Rich</td><td>399</td></tr><tr><td>I am Rich!</td><td>399</td></tr></tbody></table></div>"
      ]
     },
     "metadata": {
      "application/vnd.databricks.v1+output": {
       "addedWidgets": {},
       "aggData": [],
       "aggError": "",
       "aggOverflow": false,
       "aggSchema": [],
       "aggSeriesLimitReached": false,
       "aggType": "",
       "arguments": {},
       "columnCustomDisplayInfos": {},
       "data": [
        [
         "I'm Rich - Trump Edition",
         400
        ],
        [
         "most expensive app (H)",
         399
        ],
        [
         "I am rich(premium)",
         399
        ],
        [
         "I Am Rich Premium",
         399
        ],
        [
         "I am Rich Plus",
         399
        ],
        [
         "I'm Rich/Eu sou Rico/أنا غني/我很有錢",
         399
        ],
        [
         "I Am Rich Pro",
         399
        ],
        [
         "I AM RICH PRO PLUS",
         399
        ],
        [
         "I am Rich",
         399
        ],
        [
         "I am Rich!",
         399
        ]
       ],
       "datasetInfos": [],
       "dbfsResultPath": null,
       "isJsonSchema": true,
       "metadata": {},
       "overflow": false,
       "plotOptions": {
        "customPlotOptions": {},
        "displayType": "table",
        "pivotAggregation": null,
        "pivotColumns": null,
        "xColumns": null,
        "yColumns": null
       },
       "removedWidgets": [],
       "schema": [
        {
         "metadata": "{}",
         "name": "App",
         "type": "\"string\""
        },
        {
         "metadata": "{\"__autoGeneratedAlias\":\"true\"}",
         "name": "sum(Price)",
         "type": "\"long\""
        }
       ],
       "type": "table"
      }
     },
     "output_type": "display_data"
    }
   ],
   "source": [
    "%sql\n",
    "select App, sum(Price) from apps\n",
    "where Type='Paid'\n",
    "group by 1\n",
    "order by 2 desc\n",
    "limit 10"
   ]
  }
 ],
 "metadata": {
  "application/vnd.databricks.v1+notebook": {
   "dashboards": [],
   "environmentMetadata": null,
   "language": "python",
   "notebookMetadata": {
    "mostRecentlyExecutedCommandWithImplicitDF": {
     "commandId": 1174486758934287,
     "dataframes": [
      "_sqldf"
     ]
    },
    "pythonIndentUnit": 4
   },
   "notebookName": "Play Store Data Analysis",
   "widgets": {}
  }
 },
 "nbformat": 4,
 "nbformat_minor": 0
}
